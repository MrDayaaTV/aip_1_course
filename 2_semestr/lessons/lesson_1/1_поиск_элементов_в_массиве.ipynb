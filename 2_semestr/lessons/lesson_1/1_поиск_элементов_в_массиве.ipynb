{
 "cells": [
  {
   "cell_type": "markdown",
   "metadata": {},
   "source": [
    "# Линейный алгоритм поиска элемента в списке\n",
    "### 1 вариант"
   ]
  },
  {
   "cell_type": "code",
   "execution_count": 3,
   "metadata": {},
   "outputs": [
    {
     "name": "stdout",
     "output_type": "stream",
     "text": [
      "Длина списка 1000, найден элемент на позиции 245, время выполнения 0.0003188000000022839\n"
     ]
    }
   ],
   "source": [
    "import time\n",
    "import random\n",
    "mnog = 1000\n",
    "spisok = [random.randint(1,mnog) for x in range(0,mnog)]\n",
    "isk = random.randint(1,mnog)\n",
    "time_start = time.perf_counter()\n",
    "find_index = -1\n",
    "for index in range(len(spisok)):\n",
    "    if spisok[index]==isk:\n",
    "        find_index = index\n",
    "print(f\"Длина списка {mnog}, найден элемент на позиции {find_index}, время выполнения {time.perf_counter ()-time_start}\")\n"
   ]
  },
  {
   "cell_type": "markdown",
   "metadata": {},
   "source": [
    "### 2 вариант, добавлен break выход из цикла при нахождении элемента"
   ]
  },
  {
   "cell_type": "code",
   "execution_count": 4,
   "metadata": {},
   "outputs": [
    {
     "name": "stdout",
     "output_type": "stream",
     "text": [
      "Длина списка 1000, найден элемент на позиции -1, время выполнения 0.0005947000000006142\n"
     ]
    }
   ],
   "source": [
    "import time\n",
    "import random\n",
    "mnog = 1000\n",
    "spisok = [random.randint(1,mnog) for x in range(0,mnog)]\n",
    "isk = random.randint(1,mnog)\n",
    "time_start = time.perf_counter()\n",
    "\n",
    "find_index = -1\n",
    "for index in range(len(spisok)):\n",
    "    if spisok[index]==isk:\n",
    "        find_index = index\n",
    "        break\n",
    "print(f\"Длина списка {mnog}, найден элемент на позиции {find_index}, время выполнения {time.perf_counter ()-time_start}\")"
   ]
  },
  {
   "cell_type": "markdown",
   "metadata": {},
   "source": [
    "### 3 вариант, используется цикл while и так называемый барьер"
   ]
  },
  {
   "cell_type": "code",
   "execution_count": 5,
   "metadata": {},
   "outputs": [
    {
     "name": "stdout",
     "output_type": "stream",
     "text": [
      "Длина списка 1000, найден элемент на позиции 986, время поиска 0.00056449999999586\n"
     ]
    }
   ],
   "source": [
    "import time\n",
    "import random\n",
    "mnog = 1000\n",
    "spisok = [random.randint(1,mnog) for x in range(0,mnog)]\n",
    "\n",
    "isk = random.randint(1,mnog)\n",
    "time_start = time.perf_counter()\n",
    "spisok.append(isk)\n",
    "index = 0\n",
    "while spisok[index]!=isk:\n",
    "    index = index + 1\n",
    "print(f\"Длина списка {mnog}, найден элемент на позиции {index}, время поиска {time.perf_counter ()-time_start}\")"
   ]
  },
  {
   "cell_type": "markdown",
   "metadata": {},
   "source": [
    "# Бинарный поиск(поиск делением пополам)"
   ]
  },
  {
   "cell_type": "code",
   "execution_count": 1,
   "metadata": {},
   "outputs": [
    {
     "name": "stdout",
     "output_type": "stream",
     "text": [
      "Длина списка 1000, найден элемент на позиции 998, время выполнения 0.0004641000000003004, время поиска 0.00033549999999937796\n"
     ]
    }
   ],
   "source": [
    "import time\n",
    "import random\n",
    "mnog = 1000\n",
    "first = 0\n",
    "spisok = [random.randint(1,mnog) for x in range(0,mnog)]\n",
    "isk = random.randint(1,mnog)\n",
    "time_sort = time.perf_counter()\n",
    "spisok.sort()\n",
    "time_start = time.perf_counter()\n",
    "last = len(spisok)-1\n",
    "index = -1\n",
    "while (first <= last) and (index == -1):\n",
    "    mid = (first+last)//2\n",
    "    if spisok[mid] == isk:\n",
    "        index = mid\n",
    "    else:\n",
    "        if isk<spisok[mid]:\n",
    "            last = mid -1\n",
    "        else:\n",
    "            first = mid +1\n",
    "print(f\"Длина списка {mnog}, найден элемент на позиции {index}, время выполнения {time.perf_counter()-time_start}, время поиска {time_start-time_sort}\")"
   ]
  },
  {
   "cell_type": "markdown",
   "metadata": {},
   "source": [
    "# Jump Search"
   ]
  },
  {
   "cell_type": "code",
   "execution_count": 2,
   "metadata": {},
   "outputs": [
    {
     "name": "stdout",
     "output_type": "stream",
     "text": [
      "Длина списка 1000, найден элемент на позиции -1, время выполнения 0.00013380000000040582, время поиска 0.00019610000000014338\n"
     ]
    }
   ],
   "source": [
    "import time\n",
    "import random\n",
    "import math\n",
    "import math\n",
    "def JumpSearch (lys, val):\n",
    "    length = len(lys)\n",
    "    jump = int(math.sqrt(length))\n",
    "    left, right = 0, 0\n",
    "    while left < length and lys[left] <= val:\n",
    "        right = min(length - 1, left + jump)\n",
    "        if lys[left] <= val and lys[right] >= val:\n",
    "            break\n",
    "        left += jump;\n",
    "    if left >= length or lys[left] > val:\n",
    "        return -1\n",
    "    right = min(length - 1, right)\n",
    "    i = left\n",
    "    while i <= right and lys[i] <= val:\n",
    "        if lys[i] == val:\n",
    "            return i\n",
    "        i += 1\n",
    "    return -1\n",
    "mnog = 1000\n",
    "spisok = [random.randint(1,mnog) for x in range(0,mnog)]\n",
    "isk = random.randint(1,mnog)\n",
    "time_sort = time.perf_counter()\n",
    "spisok.sort()\n",
    "time_start = time.perf_counter()\n",
    "index = JumpSearch(spisok,isk)\n",
    "print(f\"Длина списка {mnog}, найден элемент на позиции {index}, время выполнения {time.perf_counter()-time_start}, время поиска {time_start-time_sort}\")"
   ]
  }
 ],
 "metadata": {
  "interpreter": {
   "hash": "4374f376cf7b56d142b84a5996ba4773e81b4b07d00579f62d563620ad3591d6"
  },
  "kernelspec": {
   "display_name": "Python 3.7.9 64-bit",
   "language": "python",
   "name": "python3"
  },
  "language_info": {
   "codemirror_mode": {
    "name": "ipython",
    "version": 3
   },
   "file_extension": ".py",
   "mimetype": "text/x-python",
   "name": "python",
   "nbconvert_exporter": "python",
   "pygments_lexer": "ipython3",
   "version": "3.9.7"
  },
  "orig_nbformat": 4
 },
 "nbformat": 4,
 "nbformat_minor": 2
}
