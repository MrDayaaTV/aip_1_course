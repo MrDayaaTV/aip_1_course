{
 "cells": [
  {
   "cell_type": "markdown",
   "metadata": {},
   "source": [
    "# Линейный алгоритм поиска элемента в списке\n",
    "### 1 вариант"
   ]
  },
  {
   "cell_type": "code",
   "execution_count": 24,
   "metadata": {},
   "outputs": [
    {
     "name": "stdout",
     "output_type": "stream",
     "text": [
      "Длина списка 1000, найден элемент на позиции 653, время выполнения 7.269999969139462e-05\n",
      "Длина списка 10000, найден элемент на позиции 869, время выполнения 0.0006591999999727705\n",
      "Длина списка 100000, найден элемент на позиции 94898, время выполнения 0.006852399999843328\n",
      "Длина списка 1000000, найден элемент на позиции 866335, время выполнения 0.06853440000031696\n",
      "Длина списка 10000000, найден элемент на позиции -1, время выполнения 0.6571678000000247\n",
      "Длина списка 100000000, найден элемент на позиции 59739093, время выполнения 6.453180299999985\n"
     ]
    }
   ],
   "source": [
    "import time\n",
    "import random\n",
    "for mnog in [1000,10000,100000,1000000,10000000,100000000]:\n",
    "    spisok = [random.randint(1,mnog) for x in range(0,mnog)]\n",
    "    isk = random.randint(1,mnog)\n",
    "    time_start = time.perf_counter()\n",
    "    find_index = -1\n",
    "    for index in range(len(spisok)):\n",
    "        if spisok[index]==isk:\n",
    "            find_index = index\n",
    "    print(f\"Длина списка {mnog}, найден элемент на позиции {find_index}, время выполнения {time.perf_counter ()-time_start}\")\n"
   ]
  },
  {
   "cell_type": "markdown",
   "metadata": {},
   "source": [
    "### 2 вариант, добавлен break выход из цикла при нахождении элемента"
   ]
  },
  {
   "cell_type": "code",
   "execution_count": 25,
   "metadata": {},
   "outputs": [
    {
     "name": "stdout",
     "output_type": "stream",
     "text": [
      "Длина списка 1000, найден элемент на позиции 523, время выполнения 3.969999988839845e-05\n",
      "Длина списка 10000, найден элемент на позиции 7607, время выполнения 0.0004979999998795392\n",
      "Длина списка 100000, найден элемент на позиции 48877, время выполнения 0.0031632999998691957\n",
      "Длина списка 1000000, найден элемент на позиции 273998, время выполнения 0.019292099999802304\n",
      "Длина списка 10000000, найден элемент на позиции 6480765, время выполнения 0.45275409999976546\n",
      "Длина списка 100000000, найден элемент на позиции -1, время выполнения 6.473116699999991\n"
     ]
    }
   ],
   "source": [
    "import time\n",
    "import random\n",
    "for mnog in [1000,10000,100000,1000000,10000000,100000000]:\n",
    "    spisok = [random.randint(1,mnog) for x in range(0,mnog)]\n",
    "    isk = random.randint(1,mnog)\n",
    "    time_start = time.perf_counter()\n",
    "\n",
    "    find_index = -1\n",
    "    for index in range(len(spisok)):\n",
    "        if spisok[index]==isk:\n",
    "            find_index = index\n",
    "            break\n",
    "    print(f\"Длина списка {mnog}, найден элемент на позиции {find_index}, время выполнения {time.perf_counter ()-time_start}\")"
   ]
  },
  {
   "cell_type": "markdown",
   "metadata": {},
   "source": [
    "### 3 вариант, используется цикл while и так называемый барьер"
   ]
  },
  {
   "cell_type": "code",
   "execution_count": 26,
   "metadata": {},
   "outputs": [
    {
     "name": "stdout",
     "output_type": "stream",
     "text": [
      "Длина списка 1000, найден элемент на позиции 38, время выполнения 6.999999641266186e-06\n",
      "Длина списка 10000, найден элемент на позиции 3327, время выполнения 0.0003140000003440946\n",
      "Длина списка 100000, найден элемент на позиции 89670, время выполнения 0.008007500000076107\n",
      "Длина списка 1000000, найден элемент на позиции 1000000, время выполнения 0.08661249999977372\n",
      "Длина списка 10000000, найден элемент на позиции 828803, время выполнения 0.07073080000009213\n",
      "Длина списка 100000000, найден элемент на позиции 100000000, время выполнения 8.978793400000086\n"
     ]
    }
   ],
   "source": [
    "import time\n",
    "import random\n",
    "for mnog in [1000,10000,100000,1000000,10000000,100000000]:\n",
    "    spisok = [random.randint(1,mnog) for x in range(0,mnog)]\n",
    "    \n",
    "    isk = random.randint(1,mnog)\n",
    "    time_start = time.perf_counter()\n",
    "    spisok.append(isk)\n",
    "    index = 0\n",
    "    while spisok[index]!=isk:\n",
    "        index = index + 1\n",
    "    print(f\"Длина списка {mnog}, найден элемент на позиции {index}, время поиска {time.perf_counter ()-time_start}\")"
   ]
  },
  {
   "cell_type": "markdown",
   "metadata": {},
   "source": [
    "# Бинарный поиск(поиск делением пополам)"
   ]
  },
  {
   "cell_type": "code",
   "execution_count": 33,
   "metadata": {},
   "outputs": [
    {
     "name": "stdout",
     "output_type": "stream",
     "text": [
      "Длина списка 1000, найден элемент на позиции -1, время выполнения 6.100000064179767e-06, время сортировки 8.140000045386842e-05\n",
      "Длина списка 10000, найден элемент на позиции -1, время выполнения 1.0300000212737359e-05, время сортировки 0.0010549999997238046\n",
      "Длина списка 100000, найден элемент на позиции 84226, время выполнения 1.4899999769113492e-05, время сортировки 0.015506100000493461\n",
      "Длина списка 1000000, найден элемент на позиции -1, время выполнения 1.8599999748403206e-05, время сортировки 0.23970029999964027\n",
      "Длина списка 10000000, найден элемент на позиции 1968245, время выполнения 3.730000025825575e-05, время сортировки 3.6952737999999954\n",
      "Длина списка 100000000, найден элемент на позиции -1, время выполнения 2.6700000489654485e-05, время сортировки 53.007768399999804\n"
     ]
    }
   ],
   "source": [
    "import time\n",
    "import random\n",
    "for mnog in [1000,10000,100000,1000000,10000000,100000000]:    \n",
    "    first = 0\n",
    "    spisok = [random.randint(1,mnog) for x in range(0,mnog)]\n",
    "    isk = random.randint(1,mnog)\n",
    "    time_sort = time.perf_counter()\n",
    "    spisok.sort()\n",
    "    time_start = time.perf_counter()\n",
    "    last = len(spisok)-1\n",
    "    index = -1\n",
    "    while (first <= last) and (index == -1):\n",
    "        mid = (first+last)//2\n",
    "        if spisok[mid] == isk:\n",
    "            index = mid\n",
    "        else:\n",
    "            if isk<spisok[mid]:\n",
    "                last = mid -1\n",
    "            else:\n",
    "                first = mid +1\n",
    "    print(f\"Длина списка {mnog}, найден элемент на позиции {index}, время выполнения {time.perf_counter()-time_start}, время поиска {time_start-time_sort}\")"
   ]
  },
  {
   "cell_type": "markdown",
   "metadata": {},
   "source": [
    "# Jump Search"
   ]
  },
  {
   "cell_type": "code",
   "execution_count": 1,
   "metadata": {},
   "outputs": [
    {
     "name": "stdout",
     "output_type": "stream",
     "text": [
      "Длина списка 1000, найден элемент на позиции -1, время выполнения 1.8000000636675395e-05, время сортировки 7.31999998606625e-05\n",
      "Длина списка 10000, найден элемент на позиции 550, время выполнения 1.700000029813964e-05, время сортировки 0.0009939999999915017\n",
      "Длина списка 100000, найден элемент на позиции -1, время выполнения 3.819999983534217e-05, время сортировки 0.016398300000219024\n",
      "Длина списка 1000000, найден элемент на позиции 409381, время выполнения 0.00041899999996530823, время сортировки 0.2940862000004927\n",
      "Длина списка 10000000, найден элемент на позиции 3389238, время выполнения 0.0012640000004466856, время сортировки 4.120110899999418\n",
      "Длина списка 100000000, найден элемент на позиции 39417054, время выполнения 0.15821020000021235, время сортировки 134.3758499000005\n"
     ]
    }
   ],
   "source": [
    "import time\n",
    "import random\n",
    "import math\n",
    "import math\n",
    "def JumpSearch (lys, val):\n",
    "    length = len(lys)\n",
    "    jump = int(math.sqrt(length))\n",
    "    left, right = 0, 0\n",
    "    while left < length and lys[left] <= val:\n",
    "        right = min(length - 1, left + jump)\n",
    "        if lys[left] <= val and lys[right] >= val:\n",
    "            break\n",
    "        left += jump;\n",
    "    if left >= length or lys[left] > val:\n",
    "        return -1\n",
    "    right = min(length - 1, right)\n",
    "    i = left\n",
    "    while i <= right and lys[i] <= val:\n",
    "        if lys[i] == val:\n",
    "            return i\n",
    "        i += 1\n",
    "    return -1\n",
    "for mnog in [1000,10000,100000,1000000,10000000,100000000]:    \n",
    "    spisok = [random.randint(1,mnog) for x in range(0,mnog)]\n",
    "    isk = random.randint(1,mnog)\n",
    "    time_sort = time.perf_counter()\n",
    "    spisok.sort()\n",
    "    time_start = time.perf_counter()\n",
    "    index = JumpSearch(spisok,isk)\n",
    "    print(f\"Длина списка {mnog}, найден элемент на позиции {index}, время выполнения {time.perf_counter()-time_start}, время поиска {time_start-time_sort}\")"
   ]
  }
 ],
 "metadata": {
  "interpreter": {
   "hash": "4374f376cf7b56d142b84a5996ba4773e81b4b07d00579f62d563620ad3591d6"
  },
  "kernelspec": {
   "display_name": "Python 3.7.9 64-bit",
   "language": "python",
   "name": "python3"
  },
  "language_info": {
   "codemirror_mode": {
    "name": "ipython",
    "version": 3
   },
   "file_extension": ".py",
   "mimetype": "text/x-python",
   "name": "python",
   "nbconvert_exporter": "python",
   "pygments_lexer": "ipython3",
   "version": "3.7.9"
  },
  "orig_nbformat": 4
 },
 "nbformat": 4,
 "nbformat_minor": 2
}
