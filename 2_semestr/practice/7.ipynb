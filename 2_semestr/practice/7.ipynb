{
 "cells": [
  {
   "cell_type": "code",
   "execution_count": null,
   "metadata": {},
   "outputs": [],
   "source": [
    "A = [[1, 4, 5], \n",
    "    [-5, 8, 9]]"
   ]
  },
  {
   "cell_type": "markdown",
   "metadata": {},
   "source": [
    "Этот список является матрицей на 2 строки и 3 столбца.\n",
    "\n",
    "\n",
    "Давайте посмотрим, как работать с вложенным списком."
   ]
  },
  {
   "cell_type": "code",
   "execution_count": null,
   "metadata": {},
   "outputs": [],
   "source": [
    "# запустите эту ячейку с кодом и посмотрите на результат\n",
    "# добавьте вывод на экран последних элементов каждого столбца\n",
    "A = [[1, 4, 5, 12], \n",
    "    [-5, 8, 9, 0],\n",
    "    [-6, 7, 11, 19]]\n",
    "\n",
    "print(\"A =\", A) \n",
    "print(\"A[1] =\", A[1])      # вторая строка\n",
    "print(\"A[1][2] =\", A[1][2])   # третий элемент второй строки\n",
    "print(\"A[0][-1] =\", A[0][-1])   # последний элемент первой строки\n",
    "\n",
    "column = [];        # пустой список\n",
    "for row in A:\n",
    "  column.append(row[2])   \n",
    "\n",
    "print(\"3 столбец =\", column)"
   ]
  },
  {
   "cell_type": "code",
   "execution_count": null,
   "metadata": {},
   "outputs": [],
   "source": [
    "# пример того как можно вывести последний элемент каждой строки\n",
    "matrix = [[ 'Test',  25, 90, 74], \n",
    "          ['Test1', 410, 87.50, 130], \n",
    "          [56, 'Test2', 253, 471]] \n",
    " \n",
    "matrix_length = len(matrix) \n",
    " \n",
    "#To read the last element from each row. \n",
    "for i in range(matrix_length): \n",
    "    print(matrix[i][-1]) \n",
    "#В приведенном выше коде мы создали матрицу и получили длину матрицы. Мы прошли по  каждой строке, используя цикл for, и напечатали послдений элемент каждой строки. Можно прочитать любую строку или столбец, используя вышеуказанный метод.\n",
    "\n",
    "\n",
    "# добавьте в программу код чтобы выводились еще 1 элемент каждой строки"
   ]
  },
  {
   "cell_type": "markdown",
   "metadata": {},
   "source": [
    "Давайте разберем ввод матрицы самим пользователем с клавиатуры. Для ввода матрицы необходимо заранее указать размерность матрицы (количество строк и столбцов)"
   ]
  },
  {
   "cell_type": "code",
   "execution_count": null,
   "metadata": {},
   "outputs": [],
   "source": [
    "row = int(input(\"Количество строк в матрице:\"))  \n",
    "column = int(input(\"Количество столбцов в матрице:\"))  \n",
    " \n",
    "# создаем пустой список  \n",
    "matrix = []  \n",
    "print(\"Заполни матрицу:\")  \n",
    " \n",
    "# For user input  \n",
    "for i in range(row):       # цикл по строкам \n",
    "   a =[]  \n",
    "   for j in range(column):     # цикл по столбцам  \n",
    "      a.append(int(input()))  \n",
    "   matrix.append(a)  \n",
    " \n",
    "# вывод на экран  \n",
    "for i in range(row):  \n",
    "   for j in range(column):  \n",
    "      print(matrix[i][j], end = \" \")  \n",
    "   print()  \n"
   ]
  },
  {
   "cell_type": "code",
   "execution_count": null,
   "metadata": {},
   "outputs": [],
   "source": [
    "# пример сложения 2 матриц\n",
    "mat1 = [[10, 13, 44],  \n",
    "      [11, 2, 3],  \n",
    "      [5, 3, 1]] \n",
    " \n",
    "mat2 = [[7, 16, -6], \n",
    "           [9, 20, -4],  \n",
    "           [-1, 3 , 27]] \n",
    " \n",
    "mat3  = [[0,0,0], \n",
    "       [0,0,0], \n",
    "       [0,0,0]] \n",
    "matrix_length = len(mat1) \n",
    " \n",
    "#проходим по строкам и столбцам \n",
    "for i in range(len(mat1)): \n",
    "    for k in range(len(mat2)): \n",
    "        mat3[i][k] = mat1[i][k] + mat2[i][k] \n",
    " \n",
    "#вывод на экран\n",
    "print(\"Сумма 2 матриц \", mat3)\n"
   ]
  },
  {
   "cell_type": "markdown",
   "metadata": {},
   "source": []
  },
  {
   "cell_type": "markdown",
   "metadata": {},
   "source": [
    "Задания\n",
    "1. Вывести на экран элементы главной и побочной диагонали, вывести максимальные и минимальные элементы диагонали\n",
    "2. Отзеркалить матрици относительно главной и побочной диагонали"
   ]
  }
 ],
 "metadata": {
  "interpreter": {
   "hash": "c755b7a499e6bbc2afc5f564bf4dfb4794f09d587524930aed50bbb1d484b908"
  },
  "kernelspec": {
   "display_name": "Python 3.8.5 64-bit",
   "language": "python",
   "name": "python3"
  },
  "language_info": {
   "codemirror_mode": {
    "name": "ipython",
    "version": 3
   },
   "file_extension": ".py",
   "mimetype": "text/x-python",
   "name": "python",
   "nbconvert_exporter": "python",
   "pygments_lexer": "ipython3",
   "version": "3.8.5"
  },
  "orig_nbformat": 4
 },
 "nbformat": 4,
 "nbformat_minor": 2
}
