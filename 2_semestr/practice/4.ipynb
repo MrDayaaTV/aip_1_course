{
 "cells": [
  {
   "cell_type": "markdown",
   "metadata": {},
   "source": [
    "1. Правильная последовательность скобок\n",
    "    Имеется текстовая строка, в которой содержится последовательность символов \\{ \\}\\[ \\]\\( \\). Определить является строка правильной скобочной последовательностью. Реализовать с помощью списка и deque.\n",
    "\n",
    "    \n",
    "2. Реализуйте с помощью списков и deque очередь. На вход программы подаются строки вида '+ N' и '-'. '+ N' означает, что в очередь нужно добавить число N, а '-' означает что из очереди элемент удаляется. \\\n",
    "На каждом вводе/удаления элементов необходимо очередь на экран.\n",
    "Например\n",
    "\n",
    "        '+ 5' # '5'\n",
    "\n",
    "        '+ 3' # '5 3'\n",
    "\n",
    "        '-' # '3'\n"
   ]
  },
  {
   "cell_type": "code",
   "execution_count": 3,
   "metadata": {},
   "outputs": [
    {
     "name": "stdout",
     "output_type": "stream",
     "text": [
      "[]\n"
     ]
    }
   ],
   "source": [
    "open_b = '{[('\n",
    "close_b = '}])'\n",
    "massiv_b = input('Input brackets')\n",
    "stack = []\n",
    "for element in massiv_b:\n",
    "    if element in open_b:\n",
    "        stack.append(element)\n",
    "    else:\n",
    "        index = close_b.index(element)\n",
    "        open_bracket = open_b[index]\n",
    "        if stack[-1]==open_bracket:\n",
    "            stack.pop()\n",
    "print(stack)\n"
   ]
  }
 ],
 "metadata": {
  "interpreter": {
   "hash": "00446a040bcaa2d807df6457012630d5b64efe937d627a0dbd6fb25ac36ae5a7"
  },
  "kernelspec": {
   "display_name": "Python 3.9.7 64-bit",
   "language": "python",
   "name": "python3"
  },
  "language_info": {
   "codemirror_mode": {
    "name": "ipython",
    "version": 3
   },
   "file_extension": ".py",
   "mimetype": "text/x-python",
   "name": "python",
   "nbconvert_exporter": "python",
   "pygments_lexer": "ipython3",
   "version": "3.9.7"
  },
  "orig_nbformat": 4
 },
 "nbformat": 4,
 "nbformat_minor": 2
}
