{
 "cells": [
  {
   "cell_type": "markdown",
   "metadata": {},
   "source": [
    "Вводятся координаты 2 клеток в формате А1 В3. Определить, являются ли эти клетки одинакового цвета.\n",
    "\n"
   ]
  },
  {
   "cell_type": "markdown",
   "metadata": {},
   "source": [
    "Представить шахматную доску (8x8) в виде матрицы 8x8, заполнив ее нулями. С клавиатуры ввести начальную и конечную позицию фигуры короля. Вывести True, если король может добраться до конечонй позиции, иначе вывести False. Формат начальной и конечной позиции А1 В2.\n",
    "\n",
    "![](https://chess-boom.online/wp-content/uploads/2018/02/Kak-hodit-korol-kartinki-360x216.jpg)\n"
   ]
  }
 ],
 "metadata": {
  "language_info": {
   "name": "python"
  },
  "orig_nbformat": 4
 },
 "nbformat": 4,
 "nbformat_minor": 2
}
